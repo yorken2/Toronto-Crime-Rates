{
 "cells": [
  {
   "cell_type": "markdown",
   "metadata": {},
   "source": [
    "# Toronto Crime Rates Notes"
   ]
  },
  {
   "cell_type": "markdown",
   "metadata": {},
   "source": [
    "## Learning objective: \n",
    "To gain experience loading, preparing and visualising a publicly available dataset in order to meet a primary objective. \n",
    "\n",
    "## Primary Goal: \n",
    "To present an overall picture of the crime rates in Toronto from 2014 to 2018 using major crime indicators (MCI).\n",
    "\n",
    "In order to meet the primary goal, I broke this analysis down into a number of objectives:\n",
    "\n",
    "- What are the most common crimes in Toronto?\n",
    "- Break down each crime into charge\n",
    "- Has there been a decrease in crime over the past number of years\n",
    "- What time of the year the frequency of crime is highest? \n",
    "- Does it has anything to do with time of the day?\n",
    "- Which neighborhoods experience the highest crime rates in Toronto?   \n",
    "- Present a clear visualisation of Toronto crime.\n",
    "\n",
    "### This project is split into the following Notebooks:\n",
    "\n",
    "#### Part 1: Toronto's Major Crime Indicators Compared\n",
    "\n",
    "#### Part 2: Toronto Assault Overview \n",
    "\n",
    "#### Part 3: Toronto's Neighbourhood Crime Rates Analysed & Mapped\n",
    "\n",
    "## Key Takeaways:\n",
    "\n",
    "- Crime in Toronto is steadily increasing which is evident from the increase in each MCI incidences over the past number of years.\n",
    "- Assault was the most frequent MCI from 2014 - 2018 and shows no evidence of decreasing.\n",
    "- The number of offences for each MCI dipped during the colder months (January and February) until rising again, typically during May, June and August. \n",
    "- The first of every month usually has the highest count of offences.\n",
    "- While crime descreases late into the night, a spike in crime typically occurs during midday and during the later hours of the evening.\n",
    "- Some of the neighbourhoods with the highest crime rate include:\n",
    "    - Church-Yonge Corridor\n",
    "    - Waterfront Communities-The Island \n",
    "    - West Humber-Clairville\n",
    "    - Moss Park \n",
    "    - Bay Street Corridor\t\n",
    "- By examining both the interactive and scatter map, it was clear that there were a number of high-density areas, the most clear being downtown.    \n",
    "    \n",
    "## Dataset\n",
    "Data available from: http://data.torontopolice.on.ca/datasets/mci-2014-to-2018"
   ]
  },
  {
   "cell_type": "markdown",
   "metadata": {},
   "source": [
    "## Analysis\n",
    "\n",
    "groupby for a lot of it\n",
    "\n",
    "### MCIs Compared from 2014 - 2018\n",
    "- create subset df with year and number of occurrences\n",
    "- necessary variables\n",
    "- plot each on one graph\n",
    "\n",
    "Could a loop or function be created to shorten this process?\n",
    "\n",
    "only need one x axis value so I dont have to have multiple occurrence year variables?"
   ]
  },
  {
   "cell_type": "markdown",
   "metadata": {},
   "source": [
    "Folium Mapping\n",
    "\n",
    "use two plugins; \n",
    "- Heatmap: Create a Heatmap layer\n",
    "- MarkerCluster:Provides Beautiful Animated Marker Clustering functionality for maps.\n",
    "\n"
   ]
  },
  {
   "cell_type": "code",
   "execution_count": null,
   "metadata": {},
   "outputs": [],
   "source": []
  }
 ],
 "metadata": {
  "kernelspec": {
   "display_name": "Python 3",
   "language": "python",
   "name": "python3"
  },
  "language_info": {
   "codemirror_mode": {
    "name": "ipython",
    "version": 3
   },
   "file_extension": ".py",
   "mimetype": "text/x-python",
   "name": "python",
   "nbconvert_exporter": "python",
   "pygments_lexer": "ipython3",
   "version": "3.7.4"
  }
 },
 "nbformat": 4,
 "nbformat_minor": 2
}
